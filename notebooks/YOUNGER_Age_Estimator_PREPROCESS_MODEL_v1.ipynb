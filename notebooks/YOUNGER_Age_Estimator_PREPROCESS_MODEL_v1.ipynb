{
  "nbformat": 4,
  "nbformat_minor": 0,
  "metadata": {
    "colab": {
      "name": "YOUNGER_Age_Estimator_PREPROCESS_MODEL_v1",
      "provenance": [],
      "collapsed_sections": []
    },
    "kernelspec": {
      "display_name": "Python 3",
      "language": "python",
      "name": "python3"
    },
    "language_info": {
      "codemirror_mode": {
        "name": "ipython",
        "version": 3
      },
      "file_extension": ".py",
      "mimetype": "text/x-python",
      "name": "python",
      "nbconvert_exporter": "python",
      "pygments_lexer": "ipython3",
      "version": "3.7.6"
    }
  },
  "cells": [
    {
      "cell_type": "markdown",
      "metadata": {
        "id": "5NdHFhDErTM4"
      },
      "source": [
        "# **YOUNGER - Age Estimator**"
      ]
    },
    {
      "cell_type": "markdown",
      "metadata": {
        "id": "nAuKSR5HuQCy"
      },
      "source": [
        "# **IV. PREPROCESSING**"
      ]
    },
    {
      "cell_type": "markdown",
      "metadata": {
        "id": "XiXYv221LD-I"
      },
      "source": [
        "## **4.1 Contents**\n",
        "* 4.1 Contents\n",
        "* 4.2 Introduction\n",
        "* 4.3 Imports\n",
        "* 4.4 Load Data\n",
        "* 4.5 Transform Data\n",
        "* 4.6 Train/Test Split\n",
        "* 4.7 Data Augmentation\n",
        "* 4.8 Transfer Learning\n",
        "* Summary\n",
        "\n",
        "\n",
        "---\n",
        "\n"
      ]
    },
    {
      "cell_type": "markdown",
      "metadata": {
        "id": "DiSjJnbdPiQY"
      },
      "source": [
        "##**4.2 Introduction**\n",
        "\n",
        "Previously, to create an age-predictor, we have completed a notebook import data and explore its attributes: [Data Wrangling & Exploratory Data Analysis](https://github.com/premonish/YOUNGER/blob/main/notebooks/YOUNGER_Age_Estimator_WRANGLING_EDA_v2.ipynb). We took a close look at the metadata and plotted some histograms of the variable distributions. We transformed the data to extract the age of the primary face in each image from their date-of-birth and the date the photo was taken. We focused on extracting a large array of vectors of the pixel information per photo. We finished the previous phase by creating 2 arrays: 'matrix_x' containing the (150,000+ pixel/image) data from each image in the dataset, and 'vector_y' containing the corresponding 'age' labels for the images. \n",
        "\n",
        "In this notebook, we will focus on Preprocessing & Modeling. In particular, we will use a Convolutional Neural Network, which is industry standard for Machine Learning image classification tasks due to its unmatched performance.  \n",
        "\n",
        "\n",
        "---\n",
        "\n"
      ]
    },
    {
      "cell_type": "markdown",
      "metadata": {
        "id": "-nscfpB1XWMG"
      },
      "source": [
        "**Historical Context** \n",
        ">\n",
        "> Image classification has been around for decades, however the field has been rapidly maturing in the last decade.  Since 2010, [ImageNet](https://https://en.wikipedia.org/wiki/ImageNet) Large Scale Visual Recognition Challenge (ILSVRC) is an annual competition where teams attempt to categorize thousands of images into 1,000 classes. In 2012, 'AlexNet' won the competition by a landslide and this is considered a pivotal moment in the history of deep learning, enabled by ingenious data scientists, a massive labeled dataset, and GPUs for training.\n",
        "\n",
        "\n"
      ]
    },
    {
      "cell_type": "markdown",
      "metadata": {
        "id": "vFRQlsdn-N8Q"
      },
      "source": [
        "**PREPROCESSING** will be focused on three main sections.\n",
        "\n",
        "1. Create Dummy Variables for categorical variables where appropriate.\n",
        "2. Standardize the magnitude of numeric features using a scaler.\n",
        "3. Split data into testing and training datasets."
      ]
    },
    {
      "cell_type": "markdown",
      "metadata": {
        "id": "CF45pNbH-Reo"
      },
      "source": [
        "**MODELING** will focus on the following four phases.\n",
        "1. Train the models on the dataset (fit)\n",
        "2. Review model performance metrics\n",
        "3. Iterate over other models\n",
        "4. Identify the final model  \n",
        "\n",
        "\n",
        "---\n",
        "\n"
      ]
    },
    {
      "cell_type": "markdown",
      "metadata": {
        "id": "zN67bVhWaOvq"
      },
      "source": [
        "## **4.3 Imports**"
      ]
    },
    {
      "cell_type": "code",
      "metadata": {
        "id": "KoFpJkXPKJV4"
      },
      "source": [
        "# !pip install tensorflow"
      ],
      "execution_count": null,
      "outputs": []
    },
    {
      "cell_type": "code",
      "metadata": {
        "id": "paCb6SdG9lPb"
      },
      "source": [
        "# Create a list of currently installed python libraries for posterity\n",
        "# !pip freeze > requirements.txt"
      ],
      "execution_count": null,
      "outputs": []
    },
    {
      "cell_type": "code",
      "metadata": {
        "id": "t6lsfcB9EpWm"
      },
      "source": [
        "### IMPORT libraries and packages ###\n",
        "### I get by with a little help from my friends ###\n",
        "import numpy as np\n",
        "import pandas as pd\n",
        "import matplotlib.pyplot as plt\n",
        "import tensorflow as tf\n",
        "from tensorflow import keras\n",
        "\n",
        "# deep-learning imports\n",
        "from keras.callbacks import ModelCheckpoint,EarlyStopping\n",
        "from keras.layers import Dense, Activation, Dropout, Flatten, Input, Convolution2D, ZeroPadding2D, MaxPooling2D, Activation\n",
        "from keras.layers import Conv2D, AveragePooling2D\n",
        "from keras.models import Model, Sequential\n",
        "from keras import metrics\n",
        "from keras.models import model_from_json\n",
        "\n",
        "# import os\n",
        "# import PIL\n",
        "# from PIL import Image\n",
        "# import seaborn as sns\n",
        "# from pathlib import Path\n",
        "# import random\n",
        "# import requests\n",
        "# import scipy.io\n",
        "# from keras.preprocessing import image\n",
        "# from keras.applications.resnet import preprocess_input\n",
        "# from datetime import datetime, date, time, timedelta"
      ],
      "execution_count": null,
      "outputs": []
    },
    {
      "cell_type": "code",
      "metadata": {
        "colab": {
          "base_uri": "https://localhost:8080/"
        },
        "id": "8y2HbkGJMwo5",
        "outputId": "0afc9788-60a2-4aef-af3d-f6675101b6b5"
      },
      "source": [
        "# mount GDrive where the dataset is stored for Colab environment\n",
        "from google.colab import drive\n",
        "drive.mount('/content/drive')"
      ],
      "execution_count": null,
      "outputs": [
        {
          "output_type": "stream",
          "text": [
            "Drive already mounted at /content/drive; to attempt to forcibly remount, call drive.mount(\"/content/drive\", force_remount=True).\n"
          ],
          "name": "stdout"
        }
      ]
    },
    {
      "cell_type": "markdown",
      "metadata": {
        "id": "jbe7yzB7cKT-"
      },
      "source": [
        "## **4.4 Load Data**\n",
        "Let's load the compressed numpy arrays from disk, extract data, and check the number of rows in our dataset."
      ]
    },
    {
      "cell_type": "code",
      "metadata": {
        "id": "ZbArMfsXIsGf",
        "colab": {
          "base_uri": "https://localhost:8080/"
        },
        "outputId": "677a918c-e324-4675-fb10-66957f6b135b"
      },
      "source": [
        "%%time\n",
        "from numpy import asarray, savez_compressed, load\n",
        "# load dict of arrays\n",
        "images = np.load('/content/drive/MyDrive/YOUNGER/data2.npz', allow_pickle=True)\n",
        "matrix_x = images.f.arr_0\n",
        "matrix_x.shape"
      ],
      "execution_count": null,
      "outputs": [
        {
          "output_type": "stream",
          "text": [
            "CPU times: user 1min 4s, sys: 9.73 s, total: 1min 13s\n",
            "Wall time: 1min 14s\n"
          ],
          "name": "stdout"
        }
      ]
    },
    {
      "cell_type": "code",
      "metadata": {
        "colab": {
          "base_uri": "https://localhost:8080/"
        },
        "id": "TemE8lc_mI_f",
        "outputId": "f13fc102-2816-49b6-fc7d-4e2a71febda2"
      },
      "source": [
        "# load the ages array 'vector_y'\n",
        "ages = np.load('/content/drive/MyDrive/YOUNGER/vector_y.npz', allow_pickle=True)\n",
        "vector_y = ages.f.arr_0\n",
        "vector_y.shape"
      ],
      "execution_count": null,
      "outputs": [
        {
          "output_type": "execute_result",
          "data": {
            "text/plain": [
              "(22138,)"
            ]
          },
          "metadata": {
            "tags": []
          },
          "execution_count": 6
        }
      ]
    },
    {
      "cell_type": "code",
      "metadata": {
        "id": "2rScm1jQm1Q_"
      },
      "source": [
        "# check output matrix_x & vector_y shapes\n",
        "# both matrix_x and vector_y are arrays of the same length \n",
        "assert vector_y.shape == matrix_x.shape"
      ],
      "execution_count": null,
      "outputs": []
    },
    {
      "cell_type": "code",
      "metadata": {
        "id": "tmZ6TfEqBkqB"
      },
      "source": [
        "# subset data\n",
        "X0 = matrix_x[:5000]\n",
        "X1 = matrix_x[5000:10000]\n",
        "# X2 = matrix_x[10000:12000]\n",
        "# X3 = matrix_x[15000:20000]\n",
        "# X4 = matrix_x[20000:]\n",
        "\n",
        "### NOTE: I'm running some tests to see how many images to include without overwhelming Google Colab's Ram. \n",
        "### I have already upgraded to Colab Pro for this project and have been reaching the RAM limits\n",
        "\n",
        "y = vector_y[:10000]\n",
        "# convert to tensor\n",
        "# [tf.convert_to_tensor(a) for a in X]\n",
        "# [tf.convert_to_tensor(a) for a in y];"
      ],
      "execution_count": null,
      "outputs": []
    },
    {
      "cell_type": "markdown",
      "metadata": {
        "id": "1zr0lCj5dZuW"
      },
      "source": [
        "## **4.5 Transform Data**"
      ]
    },
    {
      "cell_type": "markdown",
      "metadata": {
        "id": "UEz10wjTpq34"
      },
      "source": [
        "**One-Hot Encoding**\n",
        "\n",
        "We need to encode the 'ages' label as categorical (binary) representations to prevent a hierarchical interpretation. \n",
        "The Keras API provides a 'to_categorical()' method that can be used to one-hot encode integer data. "
      ]
    },
    {
      "cell_type": "code",
      "metadata": {
        "id": "hOG6MdCQpRJF"
      },
      "source": [
        "classes = 101 # ages 0 to 100\n",
        "target = y\n",
        "target_classes = keras.utils.to_categorical(target, classes) # \"Converts a class vector (integers) to binary class matrix.\" "
      ],
      "execution_count": null,
      "outputs": []
    },
    {
      "cell_type": "markdown",
      "metadata": {
        "id": "cZEaNizvqqnU"
      },
      "source": [
        "**Reshaping the Data**\n",
        "\n",
        "We must reshape the data into the standard input array shape of a 'rank 4 tensor' to prepare for the Tensorflow CNN.\n",
        "\n",
        "(b, w, h, c) : (batch, width, height, channels)"
      ]
    },
    {
      "cell_type": "code",
      "metadata": {
        "id": "4OjMyeT9oU42"
      },
      "source": [
        "# features = []\n",
        "# for i in range(0, len(X)):\n",
        "#     features.append(X[i])\n",
        "# features = np.array(features)\n",
        "# features = features.reshape(len(X),224,224,3)\n",
        "# features.shape"
      ],
      "execution_count": null,
      "outputs": []
    },
    {
      "cell_type": "code",
      "metadata": {
        "id": "KMUc51KI1IHE",
        "colab": {
          "base_uri": "https://localhost:8080/"
        },
        "outputId": "578d8bf7-7b37-493d-83b4-b0f1538dfbe1"
      },
      "source": [
        "#### TEST ###$#$#$\n",
        "### NOTE: I'm running some tests to see how many images to include without overwhelming Google Colab's Ram. \n",
        "### I have already upgraded to Colab Pro for this project and have been reaching the RAM limits\n",
        "%%time\n",
        "features = []\n",
        "for i in range(0, len(X0)):\n",
        "    features.append(X0[i])\n",
        "for i in range(0, len(X1)):\n",
        "    features.append(X1[i])\n",
        "# for i in range(0, len(X2)):\n",
        "#     features.append(X2[i])\n",
        "# for i in range(0, len(X3)):\n",
        "#     features.append(X3[i])\n",
        "features = np.array(features)"
      ],
      "execution_count": null,
      "outputs": [
        {
          "output_type": "stream",
          "text": [
            "CPU times: user 818 ms, sys: 1.08 s, total: 1.9 s\n",
            "Wall time: 1.89 s\n"
          ],
          "name": "stdout"
        }
      ]
    },
    {
      "cell_type": "code",
      "metadata": {
        "colab": {
          "base_uri": "https://localhost:8080/"
        },
        "id": "Wun5czsJBGS2",
        "outputId": "82584d27-09e1-446f-86be-8fe5b3c47fed"
      },
      "source": [
        "features = features.reshape(len(features),224,224,3)\n",
        "features.shape"
      ],
      "execution_count": null,
      "outputs": [
        {
          "output_type": "execute_result",
          "data": {
            "text/plain": [
              "(10000, 224, 224, 3)"
            ]
          },
          "metadata": {
            "tags": []
          },
          "execution_count": 12
        }
      ]
    },
    {
      "cell_type": "markdown",
      "metadata": {
        "id": "VlCGzAGvlmCy"
      },
      "source": [
        "**Scale the Data**\n",
        "\n",
        "Each of the pixel values range from 0-255. Let's scale the values to from 0-1 by dividing each value by 255. Interestingly, we are actually performing this operation virtually instantly 150,528 times per image (times the number of images)."
      ]
    },
    {
      "cell_type": "code",
      "metadata": {
        "id": "fo8E4IKfBjSF",
        "colab": {
          "base_uri": "https://localhost:8080/"
        },
        "outputId": "f8666085-4220-4b5d-fa70-31336f6e24a8"
      },
      "source": [
        "features /= 255 # scale down pixel values to range [0, 1]\n",
        "print(\"The maximum value in our dataset is:\", features.max())"
      ],
      "execution_count": null,
      "outputs": [
        {
          "output_type": "stream",
          "text": [
            "The maximum value in our dataset is: 1.0\n"
          ],
          "name": "stdout"
        }
      ]
    },
    {
      "cell_type": "markdown",
      "metadata": {
        "id": "8it1tWzpdg-I"
      },
      "source": [
        "## **4.6 Train/Test Split**\n",
        "We will divide the dataset randomly into training data and test data. We will later perform data augmentation on only the training set to help balance the classes of ages in the dataset."
      ]
    },
    {
      "cell_type": "code",
      "metadata": {
        "id": "G6-ucgOZqCmH"
      },
      "source": [
        "# train/ test split\n",
        "from sklearn.model_selection import train_test_split\n",
        "train_x, test_x, train_y, test_y = train_test_split(features, target_classes, test_size=0.20)"
      ],
      "execution_count": null,
      "outputs": []
    },
    {
      "cell_type": "code",
      "metadata": {
        "id": "rrbNZT7QMnbk",
        "colab": {
          "base_uri": "https://localhost:8080/"
        },
        "outputId": "53333fa1-a671-4cb9-9f3c-b0b4b7b037e9"
      },
      "source": [
        "# print(\"X_train shape =\",X_train.shape,\"| X_test shape =\",X_test.shape)\n",
        "# print(\"y_train shape =\",y_train.shape,\"| y_test shape =\",y_test.shape)\n",
        "\n",
        "print(\"X_train shape =\",train_x.shape,\"| X_test shape =\",test_x.shape)\n",
        "print(\"y_train shape =\",train_y.shape,\"| y_test shape =\",test_y.shape)"
      ],
      "execution_count": null,
      "outputs": [
        {
          "output_type": "stream",
          "text": [
            "X_train shape = (8000, 224, 224, 3) | X_test shape = (2000, 224, 224, 3)\n",
            "y_train shape = (8000, 101) | y_test shape = (2000, 101)\n"
          ],
          "name": "stdout"
        }
      ]
    },
    {
      "cell_type": "markdown",
      "metadata": {
        "id": "8TqHfYboe-0N"
      },
      "source": [
        "## **4.7 Data Augmentation**\n",
        "Balance the classes by upsampling the underrepresented classes. ImageDataGenerator creates transformed images to expand the training segment of the dataset."
      ]
    },
    {
      "cell_type": "code",
      "metadata": {
        "id": "SCivGcQLNXTK"
      },
      "source": [
        "from tensorflow.keras.preprocessing.image import ImageDataGenerator\n",
        "datagen = ImageDataGenerator(\n",
        "        featurewise_center=False,  # set input mean to 0 over the dataset\n",
        "        samplewise_center=False,  # set each sample mean to 0\n",
        "        featurewise_std_normalization=False,  # divide inputs by std of the dataset\n",
        "        samplewise_std_normalization=False,  # divide each input by its std\n",
        "        zca_whitening=False,  # apply ZCA whitening\n",
        "        rotation_range = 30,  # randomly rotate images in the range (degrees, 0 to 180)\n",
        "        zoom_range = 0.2, # Randomly zoom image \n",
        "        width_shift_range=0.1,  # randomly shift images horizontally (fraction of total width)\n",
        "        height_shift_range=0.1,  # randomly shift images vertically (fraction of total height)\n",
        "        horizontal_flip = True,  # randomly flip images\n",
        "        vertical_flip=False)  # randomly flip images\n",
        "\n",
        "datagen.fit(train_x);"
      ],
      "execution_count": null,
      "outputs": []
    },
    {
      "cell_type": "markdown",
      "metadata": {
        "id": "8r9jxA1w1kmV"
      },
      "source": [
        "## **4.8 Transfer Learning**\n",
        "\n",
        "I'll start by testing an established effective architecture (VGG-Face model) for this task along with trained weights. ***[UPDATE REQUIRED: INCLUDE CITATION & DETAILS]***."
      ]
    },
    {
      "cell_type": "code",
      "metadata": {
        "id": "Zy78eSy_qN-a"
      },
      "source": [
        "#VGG-Face model\n",
        "model = Sequential()\n",
        "model.add(ZeroPadding2D((1,1),input_shape=(224,224, 3)))\n",
        "model.add(Convolution2D(64, (3, 3), activation='relu'))\n",
        "model.add(ZeroPadding2D((1,1)))\n",
        "model.add(Convolution2D(64, (3, 3), activation='relu'))\n",
        "model.add(MaxPooling2D((2,2), strides=(2,2)))\n",
        " \n",
        "model.add(ZeroPadding2D((1,1)))\n",
        "model.add(Convolution2D(128, (3, 3), activation='relu'))\n",
        "model.add(ZeroPadding2D((1,1)))\n",
        "model.add(Convolution2D(128, (3, 3), activation='relu'))\n",
        "model.add(MaxPooling2D((2,2), strides=(2,2)))\n",
        " \n",
        "model.add(ZeroPadding2D((1,1)))\n",
        "model.add(Convolution2D(256, (3, 3), activation='relu'))\n",
        "model.add(ZeroPadding2D((1,1)))\n",
        "model.add(Convolution2D(256, (3, 3), activation='relu'))\n",
        "model.add(ZeroPadding2D((1,1)))\n",
        "model.add(Convolution2D(256, (3, 3), activation='relu'))\n",
        "model.add(MaxPooling2D((2,2), strides=(2,2)))\n",
        " \n",
        "model.add(ZeroPadding2D((1,1)))\n",
        "model.add(Convolution2D(512, (3, 3), activation='relu'))\n",
        "model.add(ZeroPadding2D((1,1)))\n",
        "model.add(Convolution2D(512, (3, 3), activation='relu'))\n",
        "model.add(ZeroPadding2D((1,1)))\n",
        "model.add(Convolution2D(512, (3, 3), activation='relu'))\n",
        "model.add(MaxPooling2D((2,2), strides=(2,2)))\n",
        " \n",
        "model.add(ZeroPadding2D((1,1)))\n",
        "model.add(Convolution2D(512, (3, 3), activation='relu'))\n",
        "model.add(ZeroPadding2D((1,1)))\n",
        "model.add(Convolution2D(512, (3, 3), activation='relu'))\n",
        "model.add(ZeroPadding2D((1,1)))\n",
        "model.add(Convolution2D(512, (3, 3), activation='relu'))\n",
        "model.add(MaxPooling2D((2,2), strides=(2,2)))\n",
        " \n",
        "model.add(Convolution2D(4096, (7, 7), activation='relu'))\n",
        "model.add(Dropout(0.5))\n",
        "model.add(Convolution2D(4096, (1, 1), activation='relu'))\n",
        "model.add(Dropout(0.5))\n",
        "model.add(Convolution2D(2622, (1, 1)))\n",
        "model.add(Flatten())\n",
        "model.add(Activation('softmax'))"
      ],
      "execution_count": null,
      "outputs": []
    },
    {
      "cell_type": "code",
      "metadata": {
        "id": "Vp9Ez104q_Rk"
      },
      "source": [
        "model.load_weights('/content/drive/MyDrive/YOUNGER/vgg_face_weights.h5')"
      ],
      "execution_count": null,
      "outputs": []
    },
    {
      "cell_type": "code",
      "metadata": {
        "id": "GQ_X736zrJ9F"
      },
      "source": [
        "for layer in model.layers[:-7]:\n",
        "  layer.trainable = False\n",
        " \n",
        "base_model_output = Sequential()\n",
        "base_model_output = Convolution2D(101, (1, 1), name='predictions')(model.layers[-4].output)\n",
        "base_model_output = Flatten()(base_model_output)\n",
        "base_model_output = Activation('softmax')(base_model_output)\n",
        " \n",
        "age_model = Model(inputs=model.input, outputs=base_model_output)"
      ],
      "execution_count": null,
      "outputs": []
    },
    {
      "cell_type": "code",
      "metadata": {
        "id": "5KJW8WSUrKB2"
      },
      "source": [
        "# check trainable layers\n",
        "if False:\n",
        "    for layer in model.layers:\n",
        "        print(layer, layer.trainable)\n",
        "    \n",
        "    print(\"------------------------\")\n",
        "    for layer in age_model.layers:\n",
        "        print(layer, layer.trainable)"
      ],
      "execution_count": null,
      "outputs": []
    },
    {
      "cell_type": "code",
      "metadata": {
        "id": "AddcnX68rKHF"
      },
      "source": [
        "sgd = keras.optimizers.SGD(lr=1e-3, decay=1e-6, momentum=0.9, nesterov=True)\n",
        "\n",
        "age_model.compile(loss='categorical_crossentropy'\n",
        "                  , optimizer=keras.optimizers.Adam()\n",
        "                  #, optimizer = sgd\n",
        "                  , metrics=['accuracy']\n",
        "                 )"
      ],
      "execution_count": null,
      "outputs": []
    },
    {
      "cell_type": "code",
      "metadata": {
        "id": "vHlb1ci-s6n_"
      },
      "source": [
        "checkpointer = ModelCheckpoint(\n",
        "    filepath='/content/classification_age_model.hdf5'\n",
        "    , monitor = \"val_loss\"\n",
        "    , verbose=1\n",
        "    , save_best_only=True\n",
        "    , mode = 'auto'\n",
        ")"
      ],
      "execution_count": null,
      "outputs": []
    },
    {
      "cell_type": "code",
      "metadata": {
        "id": "wVNjkvais8ok"
      },
      "source": [
        "scores = []"
      ],
      "execution_count": null,
      "outputs": []
    },
    {
      "cell_type": "code",
      "metadata": {
        "id": "Z7ZJV9Grs8rz",
        "colab": {
          "base_uri": "https://localhost:8080/"
        },
        "outputId": "92104ba6-e420-4e0a-d1c8-35fd126dc10d"
      },
      "source": [
        "enableFit = True\n",
        "\n",
        "if enableFit:\n",
        "    # epochs = 250 # original\n",
        "    batch_size = 256 # original\n",
        "    epochs = 100\n",
        "    # batch_size = 32\n",
        "\n",
        "    for i in range(epochs):\n",
        "        print(\"epoch \",i)\n",
        "        \n",
        "        ix_train = np.random.choice(train_x.shape[0], size=batch_size)\n",
        "        \n",
        "        score = age_model.fit(\n",
        "            train_x[ix_train], train_y[ix_train]\n",
        "            , epochs=1\n",
        "            , validation_data=(test_x, test_y)\n",
        "            , callbacks=[checkpointer]\n",
        "        )\n",
        "        \n",
        "        scores.append(score)\n",
        "    \n",
        "    #restore the best weights\n",
        "    from keras.models import load_model\n",
        "    age_model = load_model('/content/classification_age_model.hdf5')\n",
        "    \n",
        "    age_model.save_weights('/content/drive/MyDrive/YOUNGER/age_model_weights.h5')\n",
        "        \n",
        "else:\n",
        "    #pre-trained weights for age prediction: https://drive.google.com/file/d/1YCox_4kJ-BYeXq27uUbasu--yz28zUMV/view?usp=sharing\n",
        "    age_model.load_weights(\"/content/drive/MyDrive/YOUNGER/age_model_weights.h5\")"
      ],
      "execution_count": null,
      "outputs": [
        {
          "output_type": "stream",
          "text": [
            "epoch  0\n",
            "8/8 [==============================] - 96s 13s/step - loss: 4.5647 - accuracy: 0.0162 - val_loss: 4.3427 - val_accuracy: 0.0345\n",
            "\n",
            "Epoch 00001: val_loss improved from inf to 4.34271, saving model to /content/classification_age_model.hdf5\n",
            "epoch  1\n",
            "8/8 [==============================] - 96s 13s/step - loss: 4.2960 - accuracy: 0.0508 - val_loss: 4.1456 - val_accuracy: 0.0325\n",
            "\n",
            "Epoch 00001: val_loss improved from 4.34271 to 4.14562, saving model to /content/classification_age_model.hdf5\n",
            "epoch  2\n",
            "8/8 [==============================] - 94s 13s/step - loss: 4.0340 - accuracy: 0.0352 - val_loss: 4.0126 - val_accuracy: 0.0340\n",
            "\n",
            "Epoch 00001: val_loss improved from 4.14562 to 4.01258, saving model to /content/classification_age_model.hdf5\n",
            "epoch  3\n",
            "8/8 [==============================] - 93s 13s/step - loss: 3.9470 - accuracy: 0.0195 - val_loss: 3.9963 - val_accuracy: 0.0310\n",
            "\n",
            "Epoch 00001: val_loss improved from 4.01258 to 3.99634, saving model to /content/classification_age_model.hdf5\n",
            "epoch  4\n",
            "8/8 [==============================] - 92s 13s/step - loss: 4.0173 - accuracy: 0.0234 - val_loss: 3.9814 - val_accuracy: 0.0335\n",
            "\n",
            "Epoch 00001: val_loss improved from 3.99634 to 3.98143, saving model to /content/classification_age_model.hdf5\n",
            "epoch  5\n",
            "8/8 [==============================] - 95s 13s/step - loss: 4.0091 - accuracy: 0.0312 - val_loss: 3.9251 - val_accuracy: 0.0345\n",
            "\n",
            "Epoch 00001: val_loss improved from 3.98143 to 3.92507, saving model to /content/classification_age_model.hdf5\n",
            "epoch  6\n",
            "8/8 [==============================] - 96s 13s/step - loss: 3.8773 - accuracy: 0.0508 - val_loss: 3.8992 - val_accuracy: 0.0270\n",
            "\n",
            "Epoch 00001: val_loss improved from 3.92507 to 3.89917, saving model to /content/classification_age_model.hdf5\n",
            "epoch  7\n",
            "8/8 [==============================] - 99s 13s/step - loss: 3.8066 - accuracy: 0.0391 - val_loss: 3.8788 - val_accuracy: 0.0385\n",
            "\n",
            "Epoch 00001: val_loss improved from 3.89917 to 3.87876, saving model to /content/classification_age_model.hdf5\n",
            "epoch  8\n",
            "8/8 [==============================] - 93s 13s/step - loss: 3.8236 - accuracy: 0.0430 - val_loss: 3.8456 - val_accuracy: 0.0485\n",
            "\n",
            "Epoch 00001: val_loss improved from 3.87876 to 3.84557, saving model to /content/classification_age_model.hdf5\n",
            "epoch  9\n",
            "8/8 [==============================] - 94s 13s/step - loss: 3.8102 - accuracy: 0.0391 - val_loss: 3.8816 - val_accuracy: 0.0425\n",
            "\n",
            "Epoch 00001: val_loss did not improve from 3.84557\n",
            "epoch  10\n",
            "8/8 [==============================] - 94s 13s/step - loss: 3.8357 - accuracy: 0.0625 - val_loss: 3.8290 - val_accuracy: 0.0470\n",
            "\n",
            "Epoch 00001: val_loss improved from 3.84557 to 3.82902, saving model to /content/classification_age_model.hdf5\n",
            "epoch  11\n",
            "8/8 [==============================] - 98s 13s/step - loss: 3.6940 - accuracy: 0.0508 - val_loss: 3.8086 - val_accuracy: 0.0475\n",
            "\n",
            "Epoch 00001: val_loss improved from 3.82902 to 3.80858, saving model to /content/classification_age_model.hdf5\n",
            "epoch  12\n",
            "8/8 [==============================] - 98s 13s/step - loss: 3.6860 - accuracy: 0.0625 - val_loss: 3.7863 - val_accuracy: 0.0390\n",
            "\n",
            "Epoch 00001: val_loss improved from 3.80858 to 3.78626, saving model to /content/classification_age_model.hdf5\n",
            "epoch  13\n",
            "8/8 [==============================] - 95s 13s/step - loss: 3.6861 - accuracy: 0.0508 - val_loss: 3.8069 - val_accuracy: 0.0420\n",
            "\n",
            "Epoch 00001: val_loss did not improve from 3.78626\n",
            "epoch  14\n",
            "8/8 [==============================] - 99s 13s/step - loss: 3.7502 - accuracy: 0.0508 - val_loss: 3.7493 - val_accuracy: 0.0485\n",
            "\n",
            "Epoch 00001: val_loss improved from 3.78626 to 3.74929, saving model to /content/classification_age_model.hdf5\n",
            "epoch  15\n",
            "8/8 [==============================] - 99s 13s/step - loss: 3.7003 - accuracy: 0.0664 - val_loss: 3.7768 - val_accuracy: 0.0475\n",
            "\n",
            "Epoch 00001: val_loss did not improve from 3.74929\n",
            "epoch  16\n",
            "8/8 [==============================] - 101s 14s/step - loss: 3.6132 - accuracy: 0.0625 - val_loss: 3.7406 - val_accuracy: 0.0465\n",
            "\n",
            "Epoch 00001: val_loss improved from 3.74929 to 3.74059, saving model to /content/classification_age_model.hdf5\n",
            "epoch  17\n",
            "8/8 [==============================] - 99s 13s/step - loss: 3.6669 - accuracy: 0.0430 - val_loss: 3.7013 - val_accuracy: 0.0405\n",
            "\n",
            "Epoch 00001: val_loss improved from 3.74059 to 3.70128, saving model to /content/classification_age_model.hdf5\n",
            "epoch  18\n",
            "8/8 [==============================] - 101s 14s/step - loss: 3.5097 - accuracy: 0.0977 - val_loss: 3.7419 - val_accuracy: 0.0470\n",
            "\n",
            "Epoch 00001: val_loss did not improve from 3.70128\n",
            "epoch  19\n",
            "8/8 [==============================] - 101s 14s/step - loss: 3.6014 - accuracy: 0.0938 - val_loss: 3.7095 - val_accuracy: 0.0495\n",
            "\n",
            "Epoch 00001: val_loss did not improve from 3.70128\n",
            "epoch  20\n",
            "8/8 [==============================] - 102s 14s/step - loss: 3.5901 - accuracy: 0.0898 - val_loss: 3.7099 - val_accuracy: 0.0455\n",
            "\n",
            "Epoch 00001: val_loss did not improve from 3.70128\n",
            "epoch  21\n",
            "8/8 [==============================] - 98s 13s/step - loss: 3.6533 - accuracy: 0.0625 - val_loss: 3.6476 - val_accuracy: 0.0525\n",
            "\n",
            "Epoch 00001: val_loss improved from 3.70128 to 3.64755, saving model to /content/classification_age_model.hdf5\n",
            "epoch  22\n",
            "8/8 [==============================] - 101s 14s/step - loss: 3.5073 - accuracy: 0.1094 - val_loss: 3.6635 - val_accuracy: 0.0535\n",
            "\n",
            "Epoch 00001: val_loss did not improve from 3.64755\n",
            "epoch  23\n",
            "8/8 [==============================] - 103s 14s/step - loss: 3.5520 - accuracy: 0.1016 - val_loss: 3.7124 - val_accuracy: 0.0425\n",
            "\n",
            "Epoch 00001: val_loss did not improve from 3.64755\n",
            "epoch  24\n",
            "8/8 [==============================] - 102s 14s/step - loss: 3.5268 - accuracy: 0.0820 - val_loss: 3.6878 - val_accuracy: 0.0485\n",
            "\n",
            "Epoch 00001: val_loss did not improve from 3.64755\n",
            "epoch  25\n",
            "8/8 [==============================] - 102s 14s/step - loss: 3.5892 - accuracy: 0.0664 - val_loss: 3.7133 - val_accuracy: 0.0420\n",
            "\n",
            "Epoch 00001: val_loss did not improve from 3.64755\n",
            "epoch  26\n",
            "8/8 [==============================] - 101s 14s/step - loss: 3.6105 - accuracy: 0.0742 - val_loss: 3.6881 - val_accuracy: 0.0475\n",
            "\n",
            "Epoch 00001: val_loss did not improve from 3.64755\n",
            "epoch  27\n",
            "8/8 [==============================] - 102s 14s/step - loss: 3.6004 - accuracy: 0.0977 - val_loss: 3.6679 - val_accuracy: 0.0550\n",
            "\n",
            "Epoch 00001: val_loss did not improve from 3.64755\n",
            "epoch  28\n",
            "8/8 [==============================] - 102s 14s/step - loss: 3.5585 - accuracy: 0.0938 - val_loss: 3.6565 - val_accuracy: 0.0455\n",
            "\n",
            "Epoch 00001: val_loss did not improve from 3.64755\n",
            "epoch  29\n",
            "8/8 [==============================] - 101s 14s/step - loss: 3.4877 - accuracy: 0.1133 - val_loss: 3.6434 - val_accuracy: 0.0570\n",
            "\n",
            "Epoch 00001: val_loss improved from 3.64755 to 3.64342, saving model to /content/classification_age_model.hdf5\n",
            "epoch  30\n",
            "8/8 [==============================] - 99s 13s/step - loss: 3.5806 - accuracy: 0.0781 - val_loss: 3.6575 - val_accuracy: 0.0560\n",
            "\n",
            "Epoch 00001: val_loss did not improve from 3.64342\n",
            "epoch  31\n",
            "8/8 [==============================] - 100s 14s/step - loss: 3.6011 - accuracy: 0.0859 - val_loss: 3.6330 - val_accuracy: 0.0475\n",
            "\n",
            "Epoch 00001: val_loss improved from 3.64342 to 3.63298, saving model to /content/classification_age_model.hdf5\n",
            "epoch  32\n",
            "8/8 [==============================] - 101s 14s/step - loss: 3.5738 - accuracy: 0.1094 - val_loss: 3.6721 - val_accuracy: 0.0560\n",
            "\n",
            "Epoch 00001: val_loss did not improve from 3.63298\n",
            "epoch  33\n",
            "8/8 [==============================] - 99s 13s/step - loss: 3.5530 - accuracy: 0.0977 - val_loss: 3.6618 - val_accuracy: 0.0475\n",
            "\n",
            "Epoch 00001: val_loss did not improve from 3.63298\n",
            "epoch  34\n",
            "8/8 [==============================] - 99s 13s/step - loss: 3.5840 - accuracy: 0.0742 - val_loss: 3.6480 - val_accuracy: 0.0505\n",
            "\n",
            "Epoch 00001: val_loss did not improve from 3.63298\n",
            "epoch  35\n",
            "8/8 [==============================] - 98s 13s/step - loss: 3.5188 - accuracy: 0.0820 - val_loss: 3.6079 - val_accuracy: 0.0470\n",
            "\n",
            "Epoch 00001: val_loss improved from 3.63298 to 3.60789, saving model to /content/classification_age_model.hdf5\n",
            "epoch  36\n",
            "8/8 [==============================] - 97s 13s/step - loss: 3.4701 - accuracy: 0.1016 - val_loss: 3.6154 - val_accuracy: 0.0590\n",
            "\n",
            "Epoch 00001: val_loss did not improve from 3.60789\n",
            "epoch  37\n",
            "8/8 [==============================] - 95s 13s/step - loss: 3.4342 - accuracy: 0.0898 - val_loss: 3.6332 - val_accuracy: 0.0480\n",
            "\n",
            "Epoch 00001: val_loss did not improve from 3.60789\n",
            "epoch  38\n",
            "8/8 [==============================] - 97s 13s/step - loss: 3.6221 - accuracy: 0.0547 - val_loss: 3.6150 - val_accuracy: 0.0545\n",
            "\n",
            "Epoch 00001: val_loss did not improve from 3.60789\n",
            "epoch  39\n",
            "8/8 [==============================] - 98s 13s/step - loss: 3.4647 - accuracy: 0.0938 - val_loss: 3.6240 - val_accuracy: 0.0480\n",
            "\n",
            "Epoch 00001: val_loss did not improve from 3.60789\n",
            "epoch  40\n",
            "8/8 [==============================] - 98s 13s/step - loss: 3.4305 - accuracy: 0.0898 - val_loss: 3.6509 - val_accuracy: 0.0500\n",
            "\n",
            "Epoch 00001: val_loss did not improve from 3.60789\n",
            "epoch  41\n",
            "8/8 [==============================] - 98s 13s/step - loss: 3.5049 - accuracy: 0.1172 - val_loss: 3.6192 - val_accuracy: 0.0575\n",
            "\n",
            "Epoch 00001: val_loss did not improve from 3.60789\n",
            "epoch  42\n",
            "8/8 [==============================] - 99s 13s/step - loss: 3.5111 - accuracy: 0.0977 - val_loss: 3.6066 - val_accuracy: 0.0465\n",
            "\n",
            "Epoch 00001: val_loss improved from 3.60789 to 3.60658, saving model to /content/classification_age_model.hdf5\n",
            "epoch  43\n",
            "8/8 [==============================] - 97s 13s/step - loss: 3.3556 - accuracy: 0.0859 - val_loss: 3.6342 - val_accuracy: 0.0490\n",
            "\n",
            "Epoch 00001: val_loss did not improve from 3.60658\n",
            "epoch  44\n",
            "8/8 [==============================] - 101s 14s/step - loss: 3.3314 - accuracy: 0.1133 - val_loss: 3.6340 - val_accuracy: 0.0580\n",
            "\n",
            "Epoch 00001: val_loss did not improve from 3.60658\n",
            "epoch  45\n",
            "8/8 [==============================] - 102s 14s/step - loss: 3.3059 - accuracy: 0.1172 - val_loss: 3.6467 - val_accuracy: 0.0525\n",
            "\n",
            "Epoch 00001: val_loss did not improve from 3.60658\n",
            "epoch  46\n",
            "8/8 [==============================] - 104s 14s/step - loss: 3.2937 - accuracy: 0.1289 - val_loss: 3.6372 - val_accuracy: 0.0510\n",
            "\n",
            "Epoch 00001: val_loss did not improve from 3.60658\n",
            "epoch  47\n",
            "8/8 [==============================] - 101s 14s/step - loss: 3.4509 - accuracy: 0.0977 - val_loss: 3.6212 - val_accuracy: 0.0545\n",
            "\n",
            "Epoch 00001: val_loss did not improve from 3.60658\n",
            "epoch  48\n",
            "8/8 [==============================] - 102s 14s/step - loss: 3.3883 - accuracy: 0.1094 - val_loss: 3.6588 - val_accuracy: 0.0510\n",
            "\n",
            "Epoch 00001: val_loss did not improve from 3.60658\n",
            "epoch  49\n",
            "8/8 [==============================] - 103s 14s/step - loss: 3.3437 - accuracy: 0.1094 - val_loss: 3.6397 - val_accuracy: 0.0495\n",
            "\n",
            "Epoch 00001: val_loss did not improve from 3.60658\n",
            "epoch  50\n",
            "8/8 [==============================] - 103s 14s/step - loss: 3.3023 - accuracy: 0.1250 - val_loss: 3.6355 - val_accuracy: 0.0500\n",
            "\n",
            "Epoch 00001: val_loss did not improve from 3.60658\n",
            "epoch  51\n",
            "8/8 [==============================] - 103s 14s/step - loss: 3.4006 - accuracy: 0.1250 - val_loss: 3.6617 - val_accuracy: 0.0480\n",
            "\n",
            "Epoch 00001: val_loss did not improve from 3.60658\n",
            "epoch  52\n",
            "8/8 [==============================] - 105s 14s/step - loss: 3.3290 - accuracy: 0.1211 - val_loss: 3.6385 - val_accuracy: 0.0525\n",
            "\n",
            "Epoch 00001: val_loss did not improve from 3.60658\n",
            "epoch  53\n",
            "8/8 [==============================] - 106s 14s/step - loss: 3.3382 - accuracy: 0.1172 - val_loss: 3.6828 - val_accuracy: 0.0475\n",
            "\n",
            "Epoch 00001: val_loss did not improve from 3.60658\n",
            "epoch  54\n",
            "8/8 [==============================] - 104s 14s/step - loss: 3.1971 - accuracy: 0.1133 - val_loss: 3.6581 - val_accuracy: 0.0505\n",
            "\n",
            "Epoch 00001: val_loss did not improve from 3.60658\n",
            "epoch  55\n",
            "8/8 [==============================] - 102s 14s/step - loss: 3.3933 - accuracy: 0.1289 - val_loss: 3.6681 - val_accuracy: 0.0485\n",
            "\n",
            "Epoch 00001: val_loss did not improve from 3.60658\n",
            "epoch  56\n",
            "8/8 [==============================] - 102s 14s/step - loss: 3.4003 - accuracy: 0.1133 - val_loss: 3.6441 - val_accuracy: 0.0545\n",
            "\n",
            "Epoch 00001: val_loss did not improve from 3.60658\n",
            "epoch  57\n",
            "8/8 [==============================] - 106s 14s/step - loss: 3.3195 - accuracy: 0.1406 - val_loss: 3.6605 - val_accuracy: 0.0500\n",
            "\n",
            "Epoch 00001: val_loss did not improve from 3.60658\n",
            "epoch  58\n",
            "8/8 [==============================] - 101s 14s/step - loss: 3.3846 - accuracy: 0.1172 - val_loss: 3.6326 - val_accuracy: 0.0510\n",
            "\n",
            "Epoch 00001: val_loss did not improve from 3.60658\n",
            "epoch  59\n",
            "8/8 [==============================] - 100s 14s/step - loss: 3.4323 - accuracy: 0.1055 - val_loss: 3.6501 - val_accuracy: 0.0505\n",
            "\n",
            "Epoch 00001: val_loss did not improve from 3.60658\n",
            "epoch  60\n",
            "8/8 [==============================] - 103s 14s/step - loss: 3.3907 - accuracy: 0.1406 - val_loss: 3.6296 - val_accuracy: 0.0560\n",
            "\n",
            "Epoch 00001: val_loss did not improve from 3.60658\n",
            "epoch  61\n",
            "8/8 [==============================] - 104s 14s/step - loss: 3.2266 - accuracy: 0.1641 - val_loss: 3.6445 - val_accuracy: 0.0445\n",
            "\n",
            "Epoch 00001: val_loss did not improve from 3.60658\n",
            "epoch  62\n",
            "8/8 [==============================] - 102s 14s/step - loss: 3.3743 - accuracy: 0.0898 - val_loss: 3.6511 - val_accuracy: 0.0420\n",
            "\n",
            "Epoch 00001: val_loss did not improve from 3.60658\n",
            "epoch  63\n",
            "8/8 [==============================] - 99s 14s/step - loss: 3.3425 - accuracy: 0.1484 - val_loss: 3.6879 - val_accuracy: 0.0470\n",
            "\n",
            "Epoch 00001: val_loss did not improve from 3.60658\n",
            "epoch  64\n",
            "8/8 [==============================] - 100s 14s/step - loss: 3.3290 - accuracy: 0.1406 - val_loss: 3.6505 - val_accuracy: 0.0475\n",
            "\n",
            "Epoch 00001: val_loss did not improve from 3.60658\n",
            "epoch  65\n",
            "8/8 [==============================] - 103s 14s/step - loss: 3.1192 - accuracy: 0.1680 - val_loss: 3.6930 - val_accuracy: 0.0465\n",
            "\n",
            "Epoch 00001: val_loss did not improve from 3.60658\n",
            "epoch  66\n",
            "8/8 [==============================] - 101s 14s/step - loss: 3.3035 - accuracy: 0.1445 - val_loss: 3.6505 - val_accuracy: 0.0445\n",
            "\n",
            "Epoch 00001: val_loss did not improve from 3.60658\n",
            "epoch  67\n",
            "8/8 [==============================] - 97s 13s/step - loss: 3.1397 - accuracy: 0.1562 - val_loss: 3.6409 - val_accuracy: 0.0560\n",
            "\n",
            "Epoch 00001: val_loss did not improve from 3.60658\n",
            "epoch  68\n",
            "8/8 [==============================] - 97s 13s/step - loss: 3.1524 - accuracy: 0.1875 - val_loss: 3.6552 - val_accuracy: 0.0520\n",
            "\n",
            "Epoch 00001: val_loss did not improve from 3.60658\n",
            "epoch  69\n",
            "8/8 [==============================] - 102s 14s/step - loss: 3.2182 - accuracy: 0.1680 - val_loss: 3.6413 - val_accuracy: 0.0540\n",
            "\n",
            "Epoch 00001: val_loss did not improve from 3.60658\n",
            "epoch  70\n",
            "8/8 [==============================] - 101s 14s/step - loss: 3.1437 - accuracy: 0.1836 - val_loss: 3.6628 - val_accuracy: 0.0515\n",
            "\n",
            "Epoch 00001: val_loss did not improve from 3.60658\n",
            "epoch  71\n",
            "8/8 [==============================] - 97s 13s/step - loss: 3.3455 - accuracy: 0.1562 - val_loss: 3.6495 - val_accuracy: 0.0540\n",
            "\n",
            "Epoch 00001: val_loss did not improve from 3.60658\n",
            "epoch  72\n",
            "8/8 [==============================] - 100s 14s/step - loss: 3.2670 - accuracy: 0.1445 - val_loss: 3.6485 - val_accuracy: 0.0505\n",
            "\n",
            "Epoch 00001: val_loss did not improve from 3.60658\n",
            "epoch  73\n",
            "8/8 [==============================] - 102s 14s/step - loss: 3.2525 - accuracy: 0.1602 - val_loss: 3.6267 - val_accuracy: 0.0465\n",
            "\n",
            "Epoch 00001: val_loss did not improve from 3.60658\n",
            "epoch  74\n",
            "8/8 [==============================] - 98s 13s/step - loss: 3.0647 - accuracy: 0.1758 - val_loss: 3.6563 - val_accuracy: 0.0470\n",
            "\n",
            "Epoch 00001: val_loss did not improve from 3.60658\n",
            "epoch  75\n",
            "8/8 [==============================] - 97s 13s/step - loss: 3.2903 - accuracy: 0.1406 - val_loss: 3.6719 - val_accuracy: 0.0535\n",
            "\n",
            "Epoch 00001: val_loss did not improve from 3.60658\n",
            "epoch  76\n",
            "8/8 [==============================] - 95s 13s/step - loss: 3.3723 - accuracy: 0.1523 - val_loss: 3.7143 - val_accuracy: 0.0585\n",
            "\n",
            "Epoch 00001: val_loss did not improve from 3.60658\n",
            "epoch  77\n",
            "8/8 [==============================] - 98s 13s/step - loss: 3.1550 - accuracy: 0.1484 - val_loss: 3.6583 - val_accuracy: 0.0590\n",
            "\n",
            "Epoch 00001: val_loss did not improve from 3.60658\n",
            "epoch  78\n",
            "8/8 [==============================] - 98s 13s/step - loss: 3.1558 - accuracy: 0.1953 - val_loss: 3.6921 - val_accuracy: 0.0505\n",
            "\n",
            "Epoch 00001: val_loss did not improve from 3.60658\n",
            "epoch  79\n",
            "8/8 [==============================] - 98s 13s/step - loss: 3.0919 - accuracy: 0.1758 - val_loss: 3.6530 - val_accuracy: 0.0500\n",
            "\n",
            "Epoch 00001: val_loss did not improve from 3.60658\n",
            "epoch  80\n",
            "8/8 [==============================] - 97s 13s/step - loss: 3.2411 - accuracy: 0.1914 - val_loss: 3.6417 - val_accuracy: 0.0465\n",
            "\n",
            "Epoch 00001: val_loss did not improve from 3.60658\n",
            "epoch  81\n",
            "8/8 [==============================] - 95s 13s/step - loss: 3.2846 - accuracy: 0.1602 - val_loss: 3.6489 - val_accuracy: 0.0530\n",
            "\n",
            "Epoch 00001: val_loss did not improve from 3.60658\n",
            "epoch  82\n",
            "8/8 [==============================] - 95s 13s/step - loss: 3.2397 - accuracy: 0.1602 - val_loss: 3.6249 - val_accuracy: 0.0575\n",
            "\n",
            "Epoch 00001: val_loss did not improve from 3.60658\n",
            "epoch  83\n",
            "8/8 [==============================] - 97s 13s/step - loss: 3.3325 - accuracy: 0.1406 - val_loss: 3.6291 - val_accuracy: 0.0545\n",
            "\n",
            "Epoch 00001: val_loss did not improve from 3.60658\n",
            "epoch  84\n",
            "8/8 [==============================] - 96s 13s/step - loss: 3.1955 - accuracy: 0.2031 - val_loss: 3.6566 - val_accuracy: 0.0430\n",
            "\n",
            "Epoch 00001: val_loss did not improve from 3.60658\n",
            "epoch  85\n",
            "8/8 [==============================] - 96s 13s/step - loss: 3.2299 - accuracy: 0.1992 - val_loss: 3.6282 - val_accuracy: 0.0515\n",
            "\n",
            "Epoch 00001: val_loss did not improve from 3.60658\n",
            "epoch  86\n",
            "8/8 [==============================] - 96s 13s/step - loss: 3.2043 - accuracy: 0.1758 - val_loss: 3.6637 - val_accuracy: 0.0470\n",
            "\n",
            "Epoch 00001: val_loss did not improve from 3.60658\n",
            "epoch  87\n",
            "8/8 [==============================] - 97s 13s/step - loss: 3.0830 - accuracy: 0.1523 - val_loss: 3.6579 - val_accuracy: 0.0425\n",
            "\n",
            "Epoch 00001: val_loss did not improve from 3.60658\n",
            "epoch  88\n",
            "8/8 [==============================] - 96s 13s/step - loss: 3.1699 - accuracy: 0.2031 - val_loss: 3.6836 - val_accuracy: 0.0395\n",
            "\n",
            "Epoch 00001: val_loss did not improve from 3.60658\n",
            "epoch  89\n",
            "8/8 [==============================] - 97s 13s/step - loss: 3.2290 - accuracy: 0.1719 - val_loss: 3.6811 - val_accuracy: 0.0475\n",
            "\n",
            "Epoch 00001: val_loss did not improve from 3.60658\n",
            "epoch  90\n",
            "8/8 [==============================] - 97s 13s/step - loss: 3.1617 - accuracy: 0.2031 - val_loss: 3.6448 - val_accuracy: 0.0545\n",
            "\n",
            "Epoch 00001: val_loss did not improve from 3.60658\n",
            "epoch  91\n",
            "8/8 [==============================] - 98s 13s/step - loss: 3.0850 - accuracy: 0.2070 - val_loss: 3.6688 - val_accuracy: 0.0510\n",
            "\n",
            "Epoch 00001: val_loss did not improve from 3.60658\n",
            "epoch  92\n",
            "8/8 [==============================] - 97s 13s/step - loss: 2.9882 - accuracy: 0.2070 - val_loss: 3.6733 - val_accuracy: 0.0495\n",
            "\n",
            "Epoch 00001: val_loss did not improve from 3.60658\n",
            "epoch  93\n",
            "8/8 [==============================] - 98s 13s/step - loss: 3.2763 - accuracy: 0.1328 - val_loss: 3.6603 - val_accuracy: 0.0470\n",
            "\n",
            "Epoch 00001: val_loss did not improve from 3.60658\n",
            "epoch  94\n",
            "8/8 [==============================] - 98s 13s/step - loss: 3.1644 - accuracy: 0.1484 - val_loss: 3.6869 - val_accuracy: 0.0440\n",
            "\n",
            "Epoch 00001: val_loss did not improve from 3.60658\n",
            "epoch  95\n",
            "8/8 [==============================] - 96s 13s/step - loss: 3.2450 - accuracy: 0.1641 - val_loss: 3.7008 - val_accuracy: 0.0495\n",
            "\n",
            "Epoch 00001: val_loss did not improve from 3.60658\n",
            "epoch  96\n",
            "8/8 [==============================] - 99s 13s/step - loss: 3.0492 - accuracy: 0.1797 - val_loss: 3.6473 - val_accuracy: 0.0555\n",
            "\n",
            "Epoch 00001: val_loss did not improve from 3.60658\n",
            "epoch  97\n",
            "8/8 [==============================] - 99s 14s/step - loss: 3.1293 - accuracy: 0.1953 - val_loss: 3.6703 - val_accuracy: 0.0445\n",
            "\n",
            "Epoch 00001: val_loss did not improve from 3.60658\n",
            "epoch  98\n",
            "8/8 [==============================] - 99s 13s/step - loss: 3.0409 - accuracy: 0.1836 - val_loss: 3.6979 - val_accuracy: 0.0460\n",
            "\n",
            "Epoch 00001: val_loss did not improve from 3.60658\n",
            "epoch  99\n",
            "8/8 [==============================] - 99s 14s/step - loss: 2.9637 - accuracy: 0.2617 - val_loss: 3.6657 - val_accuracy: 0.0450\n",
            "\n",
            "Epoch 00001: val_loss did not improve from 3.60658\n"
          ],
          "name": "stdout"
        }
      ]
    },
    {
      "cell_type": "code",
      "metadata": {
        "id": "o1ST7dLGs8u2",
        "colab": {
          "base_uri": "https://localhost:8080/",
          "height": 265
        },
        "outputId": "19081dc4-c979-4604-97f1-3e5677b6e85c"
      },
      "source": [
        "val_loss_change = []; loss_change = []\n",
        "for i in range(0, len(scores)):\n",
        "    val_loss_change.append(scores[i].history['val_loss'])\n",
        "    loss_change.append(scores[i].history['loss'])\n",
        "\n",
        "plt.plot(val_loss_change, label='val_loss')\n",
        "plt.plot(loss_change, label='train_loss')\n",
        "plt.legend(loc='upper right')\n",
        "plt.show()"
      ],
      "execution_count": null,
      "outputs": [
        {
          "output_type": "display_data",
          "data": {
            "image/png": "[encoded data removed]",
            "text/plain": [
              "<Figure size 432x288 with 1 Axes>"
            ]
          },
          "metadata": {
            "tags": [],
            "needs_background": "light"
          }
        }
      ]
    },
    {
      "cell_type": "code",
      "metadata": {
        "id": "TX1CciYUs8xr",
        "colab": {
          "base_uri": "https://localhost:8080/"
        },
        "outputId": "63dd0046-9312-4f4d-b9ec-0cebed00094f"
      },
      "source": [
        "#loss and accuracy on validation set\n",
        "age_model.evaluate(test_x, test_y, verbose=1)"
      ],
      "execution_count": null,
      "outputs": [
        {
          "output_type": "stream",
          "text": [
            "63/63 [==============================] - 65s 1s/step - loss: 3.6066 - accuracy: 0.0465\n"
          ],
          "name": "stdout"
        },
        {
          "output_type": "execute_result",
          "data": {
            "text/plain": [
              "[3.606576681137085, 0.04650000110268593]"
            ]
          },
          "metadata": {
            "tags": []
          },
          "execution_count": 28
        }
      ]
    },
    {
      "cell_type": "code",
      "metadata": {
        "id": "qOGpFQpMzh0M"
      },
      "source": [
        "predictions = age_model.predict(test_x)"
      ],
      "execution_count": null,
      "outputs": []
    },
    {
      "cell_type": "code",
      "metadata": {
        "id": "xSy0Dpr_0Ad4"
      },
      "source": [
        "output_indexes = np.array([i for i in range(0, 101)])\n",
        "apparent_predictions = np.sum(predictions * output_indexes, axis = 1)"
      ],
      "execution_count": null,
      "outputs": []
    },
    {
      "cell_type": "code",
      "metadata": {
        "id": "FDI0JixjziFR",
        "colab": {
          "base_uri": "https://localhost:8080/"
        },
        "outputId": "d0e52cf4-2d47-47a1-ee1b-eb24b6d9f423"
      },
      "source": [
        "mae = 0\n",
        "for i in range(0 ,apparent_predictions.shape[0]):\n",
        "    prediction = int(apparent_predictions[i])\n",
        "    actual = np.argmax(test_y[i])\n",
        "    \n",
        "    abs_error = abs(prediction - actual)\n",
        "    # actual_mean = actual_mean + actual\n",
        "    \n",
        "    mae = mae + abs_error\n",
        "    \n",
        "    mae = mae / apparent_predictions.shape[0]\n",
        "\n",
        "print(\"mae: \",mae)\n",
        "print(\"instances: \",apparent_predictions.shape[0])"
      ],
      "execution_count": null,
      "outputs": [
        {
          "output_type": "stream",
          "text": [
            "mae:  0.0025015016255626565\n",
            "instances:  2000\n"
          ],
          "name": "stdout"
        }
      ]
    },
    {
      "cell_type": "code",
      "metadata": {
        "id": "N5xYEDfKzoBG"
      },
      "source": [
        "def loadImage(filepath):\n",
        "    test_img = image.load_img(filepath, target_size=(224, 224))\n",
        "    test_img = image.img_to_array(test_img)\n",
        "    test_img = np.expand_dims(test_img, axis = 0)\n",
        "    test_img /= 255\n",
        "    return test_img"
      ],
      "execution_count": null,
      "outputs": []
    },
    {
      "cell_type": "code",
      "metadata": {
        "id": "PDWh6D0dzoIp"
      },
      "source": [
        "from keras.preprocessing import image\n",
        "picture = \"/content/drive/MyDrive/YOUNGER/face_old.jpeg\"\n",
        "# picture = \"/content/drive/MyDrive/YOUNGER/Baby-Face-Cute.jpg\"\n",
        "# picture = \"/content/drive/MyDrive/YOUNGER/prem_linked.jpg\"\n",
        "# picture = '/content/drive/MyDrive/YOUNGER/pinky_linkedIn.jpg'\n",
        "\n",
        "prediction = age_model.predict(loadImage(picture))"
      ],
      "execution_count": null,
      "outputs": []
    },
    {
      "cell_type": "code",
      "metadata": {
        "id": "cL2J7J2dzvWx",
        "colab": {
          "base_uri": "https://localhost:8080/",
          "height": 281
        },
        "outputId": "47375c34-6770-4b5b-dcd1-af42c9614c04"
      },
      "source": [
        "y_pos = np.arange(101)\n",
        "plt.bar(y_pos, prediction[0], align='center', alpha=0.3)\n",
        "plt.ylabel('percentage')\n",
        "plt.title('age')\n",
        "plt.show()"
      ],
      "execution_count": null,
      "outputs": [
        {
          "output_type": "display_data",
          "data": {
            "image/png": "[encoded data removed]",
            "text/plain": [
              "<Figure size 432x288 with 1 Axes>"
            ]
          },
          "metadata": {
            "tags": [],
            "needs_background": "light"
          }
        }
      ]
    },
    {
      "cell_type": "code",
      "metadata": {
        "id": "Cp0kgrIrzwUI",
        "colab": {
          "base_uri": "https://localhost:8080/",
          "height": 286
        },
        "outputId": "3bcc618c-a029-462e-8223-edfc330c2242"
      },
      "source": [
        "img = image.load_img(picture)#, target_size=(224, 224))\n",
        "plt.imshow(img)\n",
        "plt.show()\n",
        "\n",
        "print(\"Dominant Age Class: \",np.argmax(prediction))\n",
        "apparent_age = np.round(np.sum(prediction * output_indexes, axis = 1))\n",
        "# print(\"apparent age: \", int(apparent_age[0]))\n",
        "# print(\"Predicted Age:\",((np.argmax(prediction))+ (int(apparent_age[0])))/2)"
      ],
      "execution_count": null,
      "outputs": [
        {
          "output_type": "display_data",
          "data": {
            "image/png": "[encoded data removed]",
            "text/plain": [
              "<Figure size 432x288 with 1 Axes>"
            ]
          },
          "metadata": {
            "tags": [],
            "needs_background": "light"
          }
        },
        {
          "output_type": "stream",
          "text": [
            "Dominant Age Class:  66\n"
          ],
          "name": "stdout"
        }
      ]
    },
    {
      "cell_type": "markdown",
      "metadata": {
        "id": "FQJjfxDUkLfU"
      },
      "source": [
        "\n",
        "\n",
        "---\n",
        "\n",
        "\n",
        "# **SUMMARY**\n",
        "\n",
        "\n",
        "---\n",
        "##**To be updated...**"
      ]
    },
    {
      "cell_type": "markdown",
      "metadata": {
        "id": "UhDT3ZLzzWxs"
      },
      "source": [
        "# **REFERENCES**\n"
      ]
    },
    {
      "cell_type": "markdown",
      "metadata": {
        "id": "ntycdHWdR2uJ"
      },
      "source": [
        "1.   https://data.vision.ee.ethz.ch/cvl/rrothe/imdb-wiki/ \n",
        "2.   https://data.vision.ee.ethz.ch/cvl/publications/papers/proceedings/eth_biwi_01229.pdf\n",
        "3. https://sefiks.com/2019/02/13/apparent-age-and-gender-prediction-in-keras/ \n",
        "4. https://www.researchgate.net/publication/265125544_Face_Detection_without_Bells_and_Whistles\n",
        "5. https://github.com/yu4u/age-gender-estimation\n",
        "\n",
        "---"
      ]
    }
  ]
}